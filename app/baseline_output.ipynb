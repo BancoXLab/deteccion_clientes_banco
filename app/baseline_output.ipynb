{
 "cells": [
  {
   "cell_type": "code",
   "execution_count": 1,
   "id": "2fdfe867",
   "metadata": {
    "execution": {
     "iopub.execute_input": "2025-09-25T23:29:50.846500Z",
     "iopub.status.busy": "2025-09-25T23:29:50.846194Z",
     "iopub.status.idle": "2025-09-25T23:29:52.898290Z",
     "shell.execute_reply": "2025-09-25T23:29:52.897538Z"
    }
   },
   "outputs": [
    {
     "name": "stdout",
     "output_type": "stream",
     "text": [
      "Requirement already satisfied: mlflow in /usr/local/python/3.12.1/lib/python3.12/site-packages (3.4.0)\r\n",
      "Requirement already satisfied: mlflow-skinny==3.4.0 in /usr/local/python/3.12.1/lib/python3.12/site-packages (from mlflow) (3.4.0)\r\n",
      "Requirement already satisfied: mlflow-tracing==3.4.0 in /usr/local/python/3.12.1/lib/python3.12/site-packages (from mlflow) (3.4.0)\r\n",
      "Requirement already satisfied: Flask<4 in /usr/local/python/3.12.1/lib/python3.12/site-packages (from mlflow) (3.1.2)\r\n",
      "Requirement already satisfied: alembic!=1.10.0,<2 in /usr/local/python/3.12.1/lib/python3.12/site-packages (from mlflow) (1.16.5)\r\n",
      "Requirement already satisfied: cryptography<46,>=43.0.0 in /usr/local/python/3.12.1/lib/python3.12/site-packages (from mlflow) (45.0.7)\r\n",
      "Requirement already satisfied: docker<8,>=4.0.0 in /usr/local/python/3.12.1/lib/python3.12/site-packages (from mlflow) (7.1.0)\r\n",
      "Requirement already satisfied: fastmcp<3,>=2.0.0 in /usr/local/python/3.12.1/lib/python3.12/site-packages (from mlflow) (2.12.3)\r\n",
      "Requirement already satisfied: graphene<4 in /usr/local/python/3.12.1/lib/python3.12/site-packages (from mlflow) (3.4.3)\r\n",
      "Requirement already satisfied: gunicorn<24 in /usr/local/python/3.12.1/lib/python3.12/site-packages (from mlflow) (23.0.0)\r\n",
      "Requirement already satisfied: matplotlib<4 in /home/codespace/.local/lib/python3.12/site-packages (from mlflow) (3.10.6)\r\n",
      "Requirement already satisfied: numpy<3 in /home/codespace/.local/lib/python3.12/site-packages (from mlflow) (2.3.3)\r\n",
      "Requirement already satisfied: pandas<3 in /home/codespace/.local/lib/python3.12/site-packages (from mlflow) (2.3.2)\r\n",
      "Requirement already satisfied: pyarrow<22,>=4.0.0 in /home/codespace/.local/lib/python3.12/site-packages (from mlflow) (21.0.0)\r\n",
      "Requirement already satisfied: scikit-learn<2 in /home/codespace/.local/lib/python3.12/site-packages (from mlflow) (1.7.2)\r\n",
      "Requirement already satisfied: scipy<2 in /home/codespace/.local/lib/python3.12/site-packages (from mlflow) (1.16.2)\r\n",
      "Requirement already satisfied: sqlalchemy<3,>=1.4.0 in /usr/local/python/3.12.1/lib/python3.12/site-packages (from mlflow) (2.0.43)\r\n",
      "Requirement already satisfied: cachetools<7,>=5.0.0 in /usr/local/python/3.12.1/lib/python3.12/site-packages (from mlflow-skinny==3.4.0->mlflow) (5.5.2)\r\n",
      "Requirement already satisfied: click<9,>=7.0 in /home/codespace/.local/lib/python3.12/site-packages (from mlflow-skinny==3.4.0->mlflow) (8.3.0)\r\n",
      "Requirement already satisfied: cloudpickle<4 in /usr/local/python/3.12.1/lib/python3.12/site-packages (from mlflow-skinny==3.4.0->mlflow) (3.1.1)\r\n",
      "Requirement already satisfied: databricks-sdk<1,>=0.20.0 in /usr/local/python/3.12.1/lib/python3.12/site-packages (from mlflow-skinny==3.4.0->mlflow) (0.67.0)\r\n",
      "Requirement already satisfied: fastapi<1 in /usr/local/python/3.12.1/lib/python3.12/site-packages (from mlflow-skinny==3.4.0->mlflow) (0.117.1)\r\n",
      "Requirement already satisfied: gitpython<4,>=3.1.9 in /home/codespace/.local/lib/python3.12/site-packages (from mlflow-skinny==3.4.0->mlflow) (3.1.45)\r\n",
      "Requirement already satisfied: importlib_metadata!=4.7.0,<9,>=3.7.0 in /usr/local/python/3.12.1/lib/python3.12/site-packages (from mlflow-skinny==3.4.0->mlflow) (8.7.0)\r\n",
      "Requirement already satisfied: opentelemetry-api<3,>=1.9.0 in /usr/local/python/3.12.1/lib/python3.12/site-packages (from mlflow-skinny==3.4.0->mlflow) (1.37.0)\r\n",
      "Requirement already satisfied: opentelemetry-proto<3,>=1.9.0 in /usr/local/python/3.12.1/lib/python3.12/site-packages (from mlflow-skinny==3.4.0->mlflow) (1.37.0)\r\n"
     ]
    },
    {
     "name": "stdout",
     "output_type": "stream",
     "text": [
      "Requirement already satisfied: opentelemetry-sdk<3,>=1.9.0 in /usr/local/python/3.12.1/lib/python3.12/site-packages (from mlflow-skinny==3.4.0->mlflow) (1.37.0)\r\n",
      "Requirement already satisfied: packaging<26 in /home/codespace/.local/lib/python3.12/site-packages (from mlflow-skinny==3.4.0->mlflow) (25.0)\r\n",
      "Requirement already satisfied: protobuf<7,>=3.12.0 in /home/codespace/.local/lib/python3.12/site-packages (from mlflow-skinny==3.4.0->mlflow) (6.32.1)\r\n",
      "Requirement already satisfied: pydantic<3,>=1.10.8 in /usr/local/python/3.12.1/lib/python3.12/site-packages (from mlflow-skinny==3.4.0->mlflow) (2.11.9)\r\n",
      "Requirement already satisfied: python-dotenv<2,>=0.19.0 in /usr/local/python/3.12.1/lib/python3.12/site-packages (from mlflow-skinny==3.4.0->mlflow) (1.1.1)\r\n",
      "Requirement already satisfied: pyyaml<7,>=5.1 in /home/codespace/.local/lib/python3.12/site-packages (from mlflow-skinny==3.4.0->mlflow) (6.0.2)\r\n",
      "Requirement already satisfied: requests<3,>=2.17.3 in /home/codespace/.local/lib/python3.12/site-packages (from mlflow-skinny==3.4.0->mlflow) (2.32.5)\r\n",
      "Requirement already satisfied: sqlparse<1,>=0.4.0 in /usr/local/python/3.12.1/lib/python3.12/site-packages (from mlflow-skinny==3.4.0->mlflow) (0.5.3)\r\n",
      "Requirement already satisfied: typing-extensions<5,>=4.0.0 in /home/codespace/.local/lib/python3.12/site-packages (from mlflow-skinny==3.4.0->mlflow) (4.15.0)\r\n",
      "Requirement already satisfied: uvicorn<1 in /usr/local/python/3.12.1/lib/python3.12/site-packages (from mlflow-skinny==3.4.0->mlflow) (0.37.0)\r\n",
      "Requirement already satisfied: Mako in /usr/local/python/3.12.1/lib/python3.12/site-packages (from alembic!=1.10.0,<2->mlflow) (1.3.10)\r\n",
      "Requirement already satisfied: cffi>=1.14 in /home/codespace/.local/lib/python3.12/site-packages (from cryptography<46,>=43.0.0->mlflow) (1.17.1)\r\n",
      "Requirement already satisfied: google-auth~=2.0 in /usr/local/python/3.12.1/lib/python3.12/site-packages (from databricks-sdk<1,>=0.20.0->mlflow-skinny==3.4.0->mlflow) (2.40.3)\r\n",
      "Requirement already satisfied: urllib3>=1.26.0 in /home/codespace/.local/lib/python3.12/site-packages (from docker<8,>=4.0.0->mlflow) (2.5.0)\r\n",
      "Requirement already satisfied: starlette<0.49.0,>=0.40.0 in /usr/local/python/3.12.1/lib/python3.12/site-packages (from fastapi<1->mlflow-skinny==3.4.0->mlflow) (0.48.0)\r\n",
      "Requirement already satisfied: authlib>=1.5.2 in /usr/local/python/3.12.1/lib/python3.12/site-packages (from fastmcp<3,>=2.0.0->mlflow) (1.6.4)\r\n",
      "Requirement already satisfied: cyclopts>=3.0.0 in /usr/local/python/3.12.1/lib/python3.12/site-packages (from fastmcp<3,>=2.0.0->mlflow) (3.24.0)\r\n",
      "Requirement already satisfied: exceptiongroup>=1.2.2 in /usr/local/python/3.12.1/lib/python3.12/site-packages (from fastmcp<3,>=2.0.0->mlflow) (1.3.0)\r\n",
      "Requirement already satisfied: httpx>=0.28.1 in /home/codespace/.local/lib/python3.12/site-packages (from fastmcp<3,>=2.0.0->mlflow) (0.28.1)\r\n",
      "Requirement already satisfied: mcp<2.0.0,>=1.12.4 in /usr/local/python/3.12.1/lib/python3.12/site-packages (from fastmcp<3,>=2.0.0->mlflow) (1.15.0)\r\n",
      "Requirement already satisfied: openapi-core>=0.19.5 in /usr/local/python/3.12.1/lib/python3.12/site-packages (from fastmcp<3,>=2.0.0->mlflow) (0.19.5)\r\n",
      "Requirement already satisfied: openapi-pydantic>=0.5.1 in /usr/local/python/3.12.1/lib/python3.12/site-packages (from fastmcp<3,>=2.0.0->mlflow) (0.5.1)\r\n",
      "Requirement already satisfied: pyperclip>=1.9.0 in /usr/local/python/3.12.1/lib/python3.12/site-packages (from fastmcp<3,>=2.0.0->mlflow) (1.10.0)\r\n",
      "Requirement already satisfied: rich>=13.9.4 in /usr/local/python/3.12.1/lib/python3.12/site-packages (from fastmcp<3,>=2.0.0->mlflow) (14.1.0)\r\n",
      "Requirement already satisfied: blinker>=1.9.0 in /home/codespace/.local/lib/python3.12/site-packages (from Flask<4->mlflow) (1.9.0)\r\n",
      "Requirement already satisfied: itsdangerous>=2.2.0 in /usr/local/python/3.12.1/lib/python3.12/site-packages (from Flask<4->mlflow) (2.2.0)\r\n",
      "Requirement already satisfied: jinja2>=3.1.2 in /home/codespace/.local/lib/python3.12/site-packages (from Flask<4->mlflow) (3.1.6)\r\n",
      "Requirement already satisfied: markupsafe>=2.1.1 in /home/codespace/.local/lib/python3.12/site-packages (from Flask<4->mlflow) (3.0.2)\r\n",
      "Requirement already satisfied: werkzeug>=3.1.0 in /usr/local/python/3.12.1/lib/python3.12/site-packages (from Flask<4->mlflow) (3.1.1)\r\n",
      "Requirement already satisfied: gitdb<5,>=4.0.1 in /home/codespace/.local/lib/python3.12/site-packages (from gitpython<4,>=3.1.9->mlflow-skinny==3.4.0->mlflow) (4.0.12)\r\n",
      "Requirement already satisfied: smmap<6,>=3.0.1 in /home/codespace/.local/lib/python3.12/site-packages (from gitdb<5,>=4.0.1->gitpython<4,>=3.1.9->mlflow-skinny==3.4.0->mlflow) (5.0.2)\r\n",
      "Requirement already satisfied: pyasn1-modules>=0.2.1 in /usr/local/python/3.12.1/lib/python3.12/site-packages (from google-auth~=2.0->databricks-sdk<1,>=0.20.0->mlflow-skinny==3.4.0->mlflow) (0.4.2)\r\n",
      "Requirement already satisfied: rsa<5,>=3.1.4 in /usr/local/python/3.12.1/lib/python3.12/site-packages (from google-auth~=2.0->databricks-sdk<1,>=0.20.0->mlflow-skinny==3.4.0->mlflow) (4.9.1)\r\n",
      "Requirement already satisfied: graphql-core<3.3,>=3.1 in /usr/local/python/3.12.1/lib/python3.12/site-packages (from graphene<4->mlflow) (3.2.6)\r\n",
      "Requirement already satisfied: graphql-relay<3.3,>=3.1 in /usr/local/python/3.12.1/lib/python3.12/site-packages (from graphene<4->mlflow) (3.2.0)\r\n"
     ]
    },
    {
     "name": "stdout",
     "output_type": "stream",
     "text": [
      "Requirement already satisfied: python-dateutil<3,>=2.7.0 in /home/codespace/.local/lib/python3.12/site-packages (from graphene<4->mlflow) (2.9.0.post0)\r\n",
      "Requirement already satisfied: zipp>=3.20 in /usr/local/python/3.12.1/lib/python3.12/site-packages (from importlib_metadata!=4.7.0,<9,>=3.7.0->mlflow-skinny==3.4.0->mlflow) (3.23.0)\r\n",
      "Requirement already satisfied: contourpy>=1.0.1 in /home/codespace/.local/lib/python3.12/site-packages (from matplotlib<4->mlflow) (1.3.3)\r\n",
      "Requirement already satisfied: cycler>=0.10 in /home/codespace/.local/lib/python3.12/site-packages (from matplotlib<4->mlflow) (0.12.1)\r\n",
      "Requirement already satisfied: fonttools>=4.22.0 in /home/codespace/.local/lib/python3.12/site-packages (from matplotlib<4->mlflow) (4.60.0)\r\n",
      "Requirement already satisfied: kiwisolver>=1.3.1 in /home/codespace/.local/lib/python3.12/site-packages (from matplotlib<4->mlflow) (1.4.9)\r\n",
      "Requirement already satisfied: pillow>=8 in /home/codespace/.local/lib/python3.12/site-packages (from matplotlib<4->mlflow) (11.3.0)\r\n",
      "Requirement already satisfied: pyparsing>=2.3.1 in /home/codespace/.local/lib/python3.12/site-packages (from matplotlib<4->mlflow) (3.2.5)\r\n",
      "Requirement already satisfied: anyio>=4.5 in /home/codespace/.local/lib/python3.12/site-packages (from mcp<2.0.0,>=1.12.4->fastmcp<3,>=2.0.0->mlflow) (4.9.0)\r\n",
      "Requirement already satisfied: httpx-sse>=0.4 in /usr/local/python/3.12.1/lib/python3.12/site-packages (from mcp<2.0.0,>=1.12.4->fastmcp<3,>=2.0.0->mlflow) (0.4.1)\r\n",
      "Requirement already satisfied: jsonschema>=4.20.0 in /home/codespace/.local/lib/python3.12/site-packages (from mcp<2.0.0,>=1.12.4->fastmcp<3,>=2.0.0->mlflow) (4.25.1)\r\n",
      "Requirement already satisfied: pydantic-settings>=2.5.2 in /usr/local/python/3.12.1/lib/python3.12/site-packages (from mcp<2.0.0,>=1.12.4->fastmcp<3,>=2.0.0->mlflow) (2.11.0)\r\n",
      "Requirement already satisfied: python-multipart>=0.0.9 in /usr/local/python/3.12.1/lib/python3.12/site-packages (from mcp<2.0.0,>=1.12.4->fastmcp<3,>=2.0.0->mlflow) (0.0.20)\r\n",
      "Requirement already satisfied: sse-starlette>=1.6.1 in /usr/local/python/3.12.1/lib/python3.12/site-packages (from mcp<2.0.0,>=1.12.4->fastmcp<3,>=2.0.0->mlflow) (3.0.2)\r\n",
      "Requirement already satisfied: opentelemetry-semantic-conventions==0.58b0 in /usr/local/python/3.12.1/lib/python3.12/site-packages (from opentelemetry-sdk<3,>=1.9.0->mlflow-skinny==3.4.0->mlflow) (0.58b0)\r\n",
      "Requirement already satisfied: pytz>=2020.1 in /home/codespace/.local/lib/python3.12/site-packages (from pandas<3->mlflow) (2025.2)\r\n",
      "Requirement already satisfied: tzdata>=2022.7 in /home/codespace/.local/lib/python3.12/site-packages (from pandas<3->mlflow) (2025.2)\r\n"
     ]
    },
    {
     "name": "stdout",
     "output_type": "stream",
     "text": [
      "Requirement already satisfied: annotated-types>=0.6.0 in /usr/local/python/3.12.1/lib/python3.12/site-packages (from pydantic<3,>=1.10.8->mlflow-skinny==3.4.0->mlflow) (0.7.0)\r\n",
      "Requirement already satisfied: pydantic-core==2.33.2 in /usr/local/python/3.12.1/lib/python3.12/site-packages (from pydantic<3,>=1.10.8->mlflow-skinny==3.4.0->mlflow) (2.33.2)\r\n",
      "Requirement already satisfied: typing-inspection>=0.4.0 in /usr/local/python/3.12.1/lib/python3.12/site-packages (from pydantic<3,>=1.10.8->mlflow-skinny==3.4.0->mlflow) (0.4.1)\r\n",
      "Requirement already satisfied: six>=1.5 in /home/codespace/.local/lib/python3.12/site-packages (from python-dateutil<3,>=2.7.0->graphene<4->mlflow) (1.17.0)\r\n",
      "Requirement already satisfied: charset_normalizer<4,>=2 in /home/codespace/.local/lib/python3.12/site-packages (from requests<3,>=2.17.3->mlflow-skinny==3.4.0->mlflow) (3.4.3)\r\n",
      "Requirement already satisfied: idna<4,>=2.5 in /home/codespace/.local/lib/python3.12/site-packages (from requests<3,>=2.17.3->mlflow-skinny==3.4.0->mlflow) (3.10)\r\n",
      "Requirement already satisfied: certifi>=2017.4.17 in /home/codespace/.local/lib/python3.12/site-packages (from requests<3,>=2.17.3->mlflow-skinny==3.4.0->mlflow) (2025.7.9)\r\n",
      "Requirement already satisfied: pyasn1>=0.1.3 in /usr/local/python/3.12.1/lib/python3.12/site-packages (from rsa<5,>=3.1.4->google-auth~=2.0->databricks-sdk<1,>=0.20.0->mlflow-skinny==3.4.0->mlflow) (0.6.1)\r\n",
      "Requirement already satisfied: joblib>=1.2.0 in /home/codespace/.local/lib/python3.12/site-packages (from scikit-learn<2->mlflow) (1.5.2)\r\n",
      "Requirement already satisfied: threadpoolctl>=3.1.0 in /home/codespace/.local/lib/python3.12/site-packages (from scikit-learn<2->mlflow) (3.6.0)\r\n"
     ]
    },
    {
     "name": "stdout",
     "output_type": "stream",
     "text": [
      "Requirement already satisfied: greenlet>=1 in /usr/local/python/3.12.1/lib/python3.12/site-packages (from sqlalchemy<3,>=1.4.0->mlflow) (3.2.4)\r\n",
      "Requirement already satisfied: sniffio>=1.1 in /home/codespace/.local/lib/python3.12/site-packages (from anyio>=4.5->mcp<2.0.0,>=1.12.4->fastmcp<3,>=2.0.0->mlflow) (1.3.1)\r\n",
      "Requirement already satisfied: h11>=0.8 in /home/codespace/.local/lib/python3.12/site-packages (from uvicorn<1->mlflow-skinny==3.4.0->mlflow) (0.16.0)\r\n",
      "Requirement already satisfied: pycparser in /home/codespace/.local/lib/python3.12/site-packages (from cffi>=1.14->cryptography<46,>=43.0.0->mlflow) (2.22)\r\n",
      "Requirement already satisfied: attrs>=23.1.0 in /home/codespace/.local/lib/python3.12/site-packages (from cyclopts>=3.0.0->fastmcp<3,>=2.0.0->mlflow) (25.3.0)\r\n",
      "Requirement already satisfied: docstring-parser>=0.15 in /usr/local/python/3.12.1/lib/python3.12/site-packages (from cyclopts>=3.0.0->fastmcp<3,>=2.0.0->mlflow) (0.17.0)\r\n",
      "Requirement already satisfied: rich-rst<2.0.0,>=1.3.1 in /usr/local/python/3.12.1/lib/python3.12/site-packages (from cyclopts>=3.0.0->fastmcp<3,>=2.0.0->mlflow) (1.3.1)\r\n"
     ]
    },
    {
     "name": "stdout",
     "output_type": "stream",
     "text": [
      "Requirement already satisfied: docutils in /usr/local/python/3.12.1/lib/python3.12/site-packages (from rich-rst<2.0.0,>=1.3.1->cyclopts>=3.0.0->fastmcp<3,>=2.0.0->mlflow) (0.22.2)\r\n",
      "Requirement already satisfied: httpcore==1.* in /home/codespace/.local/lib/python3.12/site-packages (from httpx>=0.28.1->fastmcp<3,>=2.0.0->mlflow) (1.0.9)\r\n",
      "Requirement already satisfied: jsonschema-specifications>=2023.03.6 in /home/codespace/.local/lib/python3.12/site-packages (from jsonschema>=4.20.0->mcp<2.0.0,>=1.12.4->fastmcp<3,>=2.0.0->mlflow) (2025.9.1)\r\n",
      "Requirement already satisfied: referencing>=0.28.4 in /home/codespace/.local/lib/python3.12/site-packages (from jsonschema>=4.20.0->mcp<2.0.0,>=1.12.4->fastmcp<3,>=2.0.0->mlflow) (0.36.2)\r\n",
      "Requirement already satisfied: rpds-py>=0.7.1 in /home/codespace/.local/lib/python3.12/site-packages (from jsonschema>=4.20.0->mcp<2.0.0,>=1.12.4->fastmcp<3,>=2.0.0->mlflow) (0.27.1)\r\n"
     ]
    },
    {
     "name": "stdout",
     "output_type": "stream",
     "text": [
      "Requirement already satisfied: isodate in /usr/local/python/3.12.1/lib/python3.12/site-packages (from openapi-core>=0.19.5->fastmcp<3,>=2.0.0->mlflow) (0.7.2)\r\n",
      "Requirement already satisfied: jsonschema-path<0.4.0,>=0.3.1 in /usr/local/python/3.12.1/lib/python3.12/site-packages (from openapi-core>=0.19.5->fastmcp<3,>=2.0.0->mlflow) (0.3.4)\r\n",
      "Requirement already satisfied: more-itertools in /usr/local/python/3.12.1/lib/python3.12/site-packages (from openapi-core>=0.19.5->fastmcp<3,>=2.0.0->mlflow) (10.8.0)\r\n",
      "Requirement already satisfied: openapi-schema-validator<0.7.0,>=0.6.0 in /usr/local/python/3.12.1/lib/python3.12/site-packages (from openapi-core>=0.19.5->fastmcp<3,>=2.0.0->mlflow) (0.6.3)\r\n",
      "Requirement already satisfied: openapi-spec-validator<0.8.0,>=0.7.1 in /usr/local/python/3.12.1/lib/python3.12/site-packages (from openapi-core>=0.19.5->fastmcp<3,>=2.0.0->mlflow) (0.7.2)\r\n",
      "Requirement already satisfied: parse in /usr/local/python/3.12.1/lib/python3.12/site-packages (from openapi-core>=0.19.5->fastmcp<3,>=2.0.0->mlflow) (1.20.2)\r\n",
      "Requirement already satisfied: pathable<0.5.0,>=0.4.1 in /usr/local/python/3.12.1/lib/python3.12/site-packages (from jsonschema-path<0.4.0,>=0.3.1->openapi-core>=0.19.5->fastmcp<3,>=2.0.0->mlflow) (0.4.4)\r\n",
      "Requirement already satisfied: rfc3339-validator in /home/codespace/.local/lib/python3.12/site-packages (from openapi-schema-validator<0.7.0,>=0.6.0->openapi-core>=0.19.5->fastmcp<3,>=2.0.0->mlflow) (0.1.4)\r\n",
      "Requirement already satisfied: lazy-object-proxy<2.0.0,>=1.7.1 in /usr/local/python/3.12.1/lib/python3.12/site-packages (from openapi-spec-validator<0.8.0,>=0.7.1->openapi-core>=0.19.5->fastmcp<3,>=2.0.0->mlflow) (1.12.0)\r\n",
      "Requirement already satisfied: email-validator>=2.0.0 in /usr/local/python/3.12.1/lib/python3.12/site-packages (from pydantic[email]>=2.11.7->fastmcp<3,>=2.0.0->mlflow) (2.3.0)\r\n"
     ]
    },
    {
     "name": "stdout",
     "output_type": "stream",
     "text": [
      "Requirement already satisfied: dnspython>=2.0.0 in /usr/local/python/3.12.1/lib/python3.12/site-packages (from email-validator>=2.0.0->pydantic[email]>=2.11.7->fastmcp<3,>=2.0.0->mlflow) (2.8.0)\r\n",
      "Requirement already satisfied: markdown-it-py>=2.2.0 in /usr/local/python/3.12.1/lib/python3.12/site-packages (from rich>=13.9.4->fastmcp<3,>=2.0.0->mlflow) (4.0.0)\r\n",
      "Requirement already satisfied: pygments<3.0.0,>=2.13.0 in /home/codespace/.local/lib/python3.12/site-packages (from rich>=13.9.4->fastmcp<3,>=2.0.0->mlflow) (2.19.2)\r\n",
      "Requirement already satisfied: mdurl~=0.1 in /usr/local/python/3.12.1/lib/python3.12/site-packages (from markdown-it-py>=2.2.0->rich>=13.9.4->fastmcp<3,>=2.0.0->mlflow) (0.1.2)\r\n"
     ]
    },
    {
     "name": "stdout",
     "output_type": "stream",
     "text": [
      "\r\n",
      "\u001b[1m[\u001b[0m\u001b[34;49mnotice\u001b[0m\u001b[1;39;49m]\u001b[0m\u001b[39;49m A new release of pip is available: \u001b[0m\u001b[31;49m25.1.1\u001b[0m\u001b[39;49m -> \u001b[0m\u001b[32;49m25.2\u001b[0m\r\n",
      "\u001b[1m[\u001b[0m\u001b[34;49mnotice\u001b[0m\u001b[1;39;49m]\u001b[0m\u001b[39;49m To update, run: \u001b[0m\u001b[32;49mpython3 -m pip install --upgrade pip\u001b[0m\r\n"
     ]
    },
    {
     "name": "stdout",
     "output_type": "stream",
     "text": [
      "Note: you may need to restart the kernel to use updated packages.\n"
     ]
    },
    {
     "name": "stdout",
     "output_type": "stream",
     "text": [
      "Requirement already satisfied: xgboost in /usr/local/python/3.12.1/lib/python3.12/site-packages (3.0.5)\r\n",
      "Requirement already satisfied: numpy in /home/codespace/.local/lib/python3.12/site-packages (from xgboost) (2.3.3)\r\n",
      "Requirement already satisfied: nvidia-nccl-cu12 in /usr/local/python/3.12.1/lib/python3.12/site-packages (from xgboost) (2.28.3)\r\n",
      "Requirement already satisfied: scipy in /home/codespace/.local/lib/python3.12/site-packages (from xgboost) (1.16.2)\r\n"
     ]
    },
    {
     "name": "stdout",
     "output_type": "stream",
     "text": [
      "\r\n",
      "\u001b[1m[\u001b[0m\u001b[34;49mnotice\u001b[0m\u001b[1;39;49m]\u001b[0m\u001b[39;49m A new release of pip is available: \u001b[0m\u001b[31;49m25.1.1\u001b[0m\u001b[39;49m -> \u001b[0m\u001b[32;49m25.2\u001b[0m\r\n",
      "\u001b[1m[\u001b[0m\u001b[34;49mnotice\u001b[0m\u001b[1;39;49m]\u001b[0m\u001b[39;49m To update, run: \u001b[0m\u001b[32;49mpython3 -m pip install --upgrade pip\u001b[0m\r\n"
     ]
    },
    {
     "name": "stdout",
     "output_type": "stream",
     "text": [
      "Note: you may need to restart the kernel to use updated packages.\n"
     ]
    }
   ],
   "source": [
    "#!/usr/bin/env python3\n",
    "%pip install mlflow\n",
    "%pip install xgboost"
   ]
  },
  {
   "cell_type": "code",
   "execution_count": 2,
   "id": "c88da2d9",
   "metadata": {
    "execution": {
     "iopub.execute_input": "2025-09-25T23:29:52.900536Z",
     "iopub.status.busy": "2025-09-25T23:29:52.900332Z",
     "iopub.status.idle": "2025-09-25T23:29:55.161681Z",
     "shell.execute_reply": "2025-09-25T23:29:55.160593Z"
    }
   },
   "outputs": [],
   "source": [
    "import os\n",
    "import pandas as pd\n",
    "from datetime import datetime\n",
    "from sklearn.model_selection import train_test_split\n",
    "from sklearn.ensemble import RandomForestClassifier\n",
    "from xgboost import XGBClassifier\n",
    "from sklearn.linear_model import LogisticRegression\n",
    "from sklearn.metrics import accuracy_score, precision_score, recall_score, f1_score, roc_curve, roc_auc_score, confusion_matrix, ConfusionMatrixDisplay\n",
    "import matplotlib.pyplot as plt\n",
    "import mlflow\n",
    "import os\n",
    "from datetime import datetime\n",
    "import sklearn\n",
    "import mlflow\n",
    "from mlflow.tracking import MlflowClient\n"
   ]
  },
  {
   "cell_type": "code",
   "execution_count": 3,
   "id": "22a2a412",
   "metadata": {
    "execution": {
     "iopub.execute_input": "2025-09-25T23:29:55.164263Z",
     "iopub.status.busy": "2025-09-25T23:29:55.163917Z",
     "iopub.status.idle": "2025-09-25T23:29:55.323346Z",
     "shell.execute_reply": "2025-09-25T23:29:55.322759Z"
    }
   },
   "outputs": [
    {
     "data": {
      "text/html": [
       "<div>\n",
       "<style scoped>\n",
       "    .dataframe tbody tr th:only-of-type {\n",
       "        vertical-align: middle;\n",
       "    }\n",
       "\n",
       "    .dataframe tbody tr th {\n",
       "        vertical-align: top;\n",
       "    }\n",
       "\n",
       "    .dataframe thead th {\n",
       "        text-align: right;\n",
       "    }\n",
       "</style>\n",
       "<table border=\"1\" class=\"dataframe\">\n",
       "  <thead>\n",
       "    <tr style=\"text-align: right;\">\n",
       "      <th></th>\n",
       "      <th>age</th>\n",
       "      <th>month</th>\n",
       "      <th>day_of_week</th>\n",
       "      <th>duration</th>\n",
       "      <th>campaign</th>\n",
       "      <th>pdays</th>\n",
       "      <th>previous</th>\n",
       "      <th>emp.var.rate</th>\n",
       "      <th>cons.price.idx</th>\n",
       "      <th>cons.conf.idx</th>\n",
       "      <th>...</th>\n",
       "      <th>education_freq_encode</th>\n",
       "      <th>housing_no</th>\n",
       "      <th>housing_unknown</th>\n",
       "      <th>housing_yes</th>\n",
       "      <th>loan_no</th>\n",
       "      <th>loan_unknown</th>\n",
       "      <th>loan_yes</th>\n",
       "      <th>contact_cellular</th>\n",
       "      <th>contact_telephone</th>\n",
       "      <th>y</th>\n",
       "    </tr>\n",
       "  </thead>\n",
       "  <tbody>\n",
       "    <tr>\n",
       "      <th>0</th>\n",
       "      <td>56</td>\n",
       "      <td>5</td>\n",
       "      <td>1</td>\n",
       "      <td>261</td>\n",
       "      <td>1</td>\n",
       "      <td>999</td>\n",
       "      <td>0</td>\n",
       "      <td>1.1</td>\n",
       "      <td>93.994000</td>\n",
       "      <td>-36.400000</td>\n",
       "      <td>...</td>\n",
       "      <td>0.101389</td>\n",
       "      <td>1</td>\n",
       "      <td>0</td>\n",
       "      <td>0</td>\n",
       "      <td>1</td>\n",
       "      <td>0</td>\n",
       "      <td>0</td>\n",
       "      <td>0</td>\n",
       "      <td>1</td>\n",
       "      <td>0</td>\n",
       "    </tr>\n",
       "    <tr>\n",
       "      <th>1</th>\n",
       "      <td>57</td>\n",
       "      <td>5</td>\n",
       "      <td>1</td>\n",
       "      <td>149</td>\n",
       "      <td>1</td>\n",
       "      <td>999</td>\n",
       "      <td>0</td>\n",
       "      <td>1.1</td>\n",
       "      <td>93.994000</td>\n",
       "      <td>-36.400000</td>\n",
       "      <td>...</td>\n",
       "      <td>0.231014</td>\n",
       "      <td>1</td>\n",
       "      <td>0</td>\n",
       "      <td>0</td>\n",
       "      <td>1</td>\n",
       "      <td>0</td>\n",
       "      <td>0</td>\n",
       "      <td>0</td>\n",
       "      <td>1</td>\n",
       "      <td>0</td>\n",
       "    </tr>\n",
       "    <tr>\n",
       "      <th>2</th>\n",
       "      <td>37</td>\n",
       "      <td>5</td>\n",
       "      <td>1</td>\n",
       "      <td>226</td>\n",
       "      <td>1</td>\n",
       "      <td>999</td>\n",
       "      <td>0</td>\n",
       "      <td>1.1</td>\n",
       "      <td>93.994000</td>\n",
       "      <td>-36.400000</td>\n",
       "      <td>...</td>\n",
       "      <td>0.231014</td>\n",
       "      <td>0</td>\n",
       "      <td>0</td>\n",
       "      <td>1</td>\n",
       "      <td>1</td>\n",
       "      <td>0</td>\n",
       "      <td>0</td>\n",
       "      <td>0</td>\n",
       "      <td>1</td>\n",
       "      <td>0</td>\n",
       "    </tr>\n",
       "    <tr>\n",
       "      <th>3</th>\n",
       "      <td>40</td>\n",
       "      <td>5</td>\n",
       "      <td>1</td>\n",
       "      <td>151</td>\n",
       "      <td>1</td>\n",
       "      <td>999</td>\n",
       "      <td>0</td>\n",
       "      <td>1.1</td>\n",
       "      <td>93.994000</td>\n",
       "      <td>-36.400000</td>\n",
       "      <td>...</td>\n",
       "      <td>0.055647</td>\n",
       "      <td>1</td>\n",
       "      <td>0</td>\n",
       "      <td>0</td>\n",
       "      <td>1</td>\n",
       "      <td>0</td>\n",
       "      <td>0</td>\n",
       "      <td>0</td>\n",
       "      <td>1</td>\n",
       "      <td>0</td>\n",
       "    </tr>\n",
       "    <tr>\n",
       "      <th>4</th>\n",
       "      <td>56</td>\n",
       "      <td>5</td>\n",
       "      <td>1</td>\n",
       "      <td>307</td>\n",
       "      <td>1</td>\n",
       "      <td>999</td>\n",
       "      <td>0</td>\n",
       "      <td>1.1</td>\n",
       "      <td>93.994000</td>\n",
       "      <td>-36.400000</td>\n",
       "      <td>...</td>\n",
       "      <td>0.231014</td>\n",
       "      <td>1</td>\n",
       "      <td>0</td>\n",
       "      <td>0</td>\n",
       "      <td>0</td>\n",
       "      <td>0</td>\n",
       "      <td>1</td>\n",
       "      <td>0</td>\n",
       "      <td>1</td>\n",
       "      <td>0</td>\n",
       "    </tr>\n",
       "    <tr>\n",
       "      <th>...</th>\n",
       "      <td>...</td>\n",
       "      <td>...</td>\n",
       "      <td>...</td>\n",
       "      <td>...</td>\n",
       "      <td>...</td>\n",
       "      <td>...</td>\n",
       "      <td>...</td>\n",
       "      <td>...</td>\n",
       "      <td>...</td>\n",
       "      <td>...</td>\n",
       "      <td>...</td>\n",
       "      <td>...</td>\n",
       "      <td>...</td>\n",
       "      <td>...</td>\n",
       "      <td>...</td>\n",
       "      <td>...</td>\n",
       "      <td>...</td>\n",
       "      <td>...</td>\n",
       "      <td>...</td>\n",
       "      <td>...</td>\n",
       "      <td>...</td>\n",
       "    </tr>\n",
       "    <tr>\n",
       "      <th>46543</th>\n",
       "      <td>84</td>\n",
       "      <td>4</td>\n",
       "      <td>2</td>\n",
       "      <td>166</td>\n",
       "      <td>1</td>\n",
       "      <td>6</td>\n",
       "      <td>2</td>\n",
       "      <td>-1.8</td>\n",
       "      <td>93.749000</td>\n",
       "      <td>-34.600000</td>\n",
       "      <td>...</td>\n",
       "      <td>0.105316</td>\n",
       "      <td>0</td>\n",
       "      <td>0</td>\n",
       "      <td>0</td>\n",
       "      <td>1</td>\n",
       "      <td>0</td>\n",
       "      <td>0</td>\n",
       "      <td>0</td>\n",
       "      <td>0</td>\n",
       "      <td>1</td>\n",
       "    </tr>\n",
       "    <tr>\n",
       "      <th>46544</th>\n",
       "      <td>38</td>\n",
       "      <td>7</td>\n",
       "      <td>2</td>\n",
       "      <td>273</td>\n",
       "      <td>1</td>\n",
       "      <td>999</td>\n",
       "      <td>0</td>\n",
       "      <td>-1.7</td>\n",
       "      <td>94.215000</td>\n",
       "      <td>-40.300000</td>\n",
       "      <td>...</td>\n",
       "      <td>0.231014</td>\n",
       "      <td>0</td>\n",
       "      <td>0</td>\n",
       "      <td>0</td>\n",
       "      <td>1</td>\n",
       "      <td>0</td>\n",
       "      <td>0</td>\n",
       "      <td>0</td>\n",
       "      <td>0</td>\n",
       "      <td>1</td>\n",
       "    </tr>\n",
       "    <tr>\n",
       "      <th>46545</th>\n",
       "      <td>27</td>\n",
       "      <td>5</td>\n",
       "      <td>3</td>\n",
       "      <td>851</td>\n",
       "      <td>1</td>\n",
       "      <td>999</td>\n",
       "      <td>0</td>\n",
       "      <td>-1.8</td>\n",
       "      <td>92.893000</td>\n",
       "      <td>-46.200000</td>\n",
       "      <td>...</td>\n",
       "      <td>0.231014</td>\n",
       "      <td>0</td>\n",
       "      <td>0</td>\n",
       "      <td>0</td>\n",
       "      <td>1</td>\n",
       "      <td>0</td>\n",
       "      <td>0</td>\n",
       "      <td>1</td>\n",
       "      <td>0</td>\n",
       "      <td>1</td>\n",
       "    </tr>\n",
       "    <tr>\n",
       "      <th>46546</th>\n",
       "      <td>49</td>\n",
       "      <td>9</td>\n",
       "      <td>1</td>\n",
       "      <td>208</td>\n",
       "      <td>1</td>\n",
       "      <td>999</td>\n",
       "      <td>1</td>\n",
       "      <td>-3.4</td>\n",
       "      <td>92.399729</td>\n",
       "      <td>-28.643943</td>\n",
       "      <td>...</td>\n",
       "      <td>0.135057</td>\n",
       "      <td>0</td>\n",
       "      <td>0</td>\n",
       "      <td>0</td>\n",
       "      <td>0</td>\n",
       "      <td>0</td>\n",
       "      <td>1</td>\n",
       "      <td>1</td>\n",
       "      <td>0</td>\n",
       "      <td>1</td>\n",
       "    </tr>\n",
       "    <tr>\n",
       "      <th>46547</th>\n",
       "      <td>40</td>\n",
       "      <td>3</td>\n",
       "      <td>2</td>\n",
       "      <td>134</td>\n",
       "      <td>1</td>\n",
       "      <td>999</td>\n",
       "      <td>0</td>\n",
       "      <td>-1.8</td>\n",
       "      <td>92.969684</td>\n",
       "      <td>-48.416455</td>\n",
       "      <td>...</td>\n",
       "      <td>0.219103</td>\n",
       "      <td>1</td>\n",
       "      <td>0</td>\n",
       "      <td>0</td>\n",
       "      <td>0</td>\n",
       "      <td>0</td>\n",
       "      <td>0</td>\n",
       "      <td>1</td>\n",
       "      <td>0</td>\n",
       "      <td>1</td>\n",
       "    </tr>\n",
       "  </tbody>\n",
       "</table>\n",
       "<p>46548 rows × 28 columns</p>\n",
       "</div>"
      ],
      "text/plain": [
       "       age  month  day_of_week  duration  campaign  pdays  previous  \\\n",
       "0       56      5            1       261         1    999         0   \n",
       "1       57      5            1       149         1    999         0   \n",
       "2       37      5            1       226         1    999         0   \n",
       "3       40      5            1       151         1    999         0   \n",
       "4       56      5            1       307         1    999         0   \n",
       "...    ...    ...          ...       ...       ...    ...       ...   \n",
       "46543   84      4            2       166         1      6         2   \n",
       "46544   38      7            2       273         1    999         0   \n",
       "46545   27      5            3       851         1    999         0   \n",
       "46546   49      9            1       208         1    999         1   \n",
       "46547   40      3            2       134         1    999         0   \n",
       "\n",
       "       emp.var.rate  cons.price.idx  cons.conf.idx  ...  \\\n",
       "0               1.1       93.994000     -36.400000  ...   \n",
       "1               1.1       93.994000     -36.400000  ...   \n",
       "2               1.1       93.994000     -36.400000  ...   \n",
       "3               1.1       93.994000     -36.400000  ...   \n",
       "4               1.1       93.994000     -36.400000  ...   \n",
       "...             ...             ...            ...  ...   \n",
       "46543          -1.8       93.749000     -34.600000  ...   \n",
       "46544          -1.7       94.215000     -40.300000  ...   \n",
       "46545          -1.8       92.893000     -46.200000  ...   \n",
       "46546          -3.4       92.399729     -28.643943  ...   \n",
       "46547          -1.8       92.969684     -48.416455  ...   \n",
       "\n",
       "       education_freq_encode  housing_no  housing_unknown  housing_yes  \\\n",
       "0                   0.101389           1                0            0   \n",
       "1                   0.231014           1                0            0   \n",
       "2                   0.231014           0                0            1   \n",
       "3                   0.055647           1                0            0   \n",
       "4                   0.231014           1                0            0   \n",
       "...                      ...         ...              ...          ...   \n",
       "46543               0.105316           0                0            0   \n",
       "46544               0.231014           0                0            0   \n",
       "46545               0.231014           0                0            0   \n",
       "46546               0.135057           0                0            0   \n",
       "46547               0.219103           1                0            0   \n",
       "\n",
       "       loan_no  loan_unknown  loan_yes  contact_cellular  contact_telephone  y  \n",
       "0            1             0         0                 0                  1  0  \n",
       "1            1             0         0                 0                  1  0  \n",
       "2            1             0         0                 0                  1  0  \n",
       "3            1             0         0                 0                  1  0  \n",
       "4            0             0         1                 0                  1  0  \n",
       "...        ...           ...       ...               ...                ... ..  \n",
       "46543        1             0         0                 0                  0  1  \n",
       "46544        1             0         0                 0                  0  1  \n",
       "46545        1             0         0                 1                  0  1  \n",
       "46546        0             0         1                 1                  0  1  \n",
       "46547        0             0         0                 1                  0  1  \n",
       "\n",
       "[46548 rows x 28 columns]"
      ]
     },
     "execution_count": 3,
     "metadata": {},
     "output_type": "execute_result"
    }
   ],
   "source": [
    "data_path = \"/workspaces/deteccion_clientes_banco/data/df_resampled.csv\"\n",
    "df = pd.read_csv(data_path, sep=\",\")\n",
    "df"
   ]
  },
  {
   "cell_type": "markdown",
   "id": "7e652bcc",
   "metadata": {},
   "source": [
    "## Training"
   ]
  },
  {
   "cell_type": "code",
   "execution_count": 4,
   "id": "67026d8e",
   "metadata": {
    "execution": {
     "iopub.execute_input": "2025-09-25T23:29:55.325822Z",
     "iopub.status.busy": "2025-09-25T23:29:55.325611Z",
     "iopub.status.idle": "2025-09-25T23:29:55.337984Z",
     "shell.execute_reply": "2025-09-25T23:29:55.336778Z"
    }
   },
   "outputs": [],
   "source": [
    "def entrenar(modelo, data):\n",
    "    train, test = train_test_split(data, test_size = 0.2, random_state = 42)\n",
    "    X_train = train.drop(\"y\", axis = 1)\n",
    "    Y_train = train[\"y\"]\n",
    "\n",
    "    X_test = test.drop(\"y\", axis = 1)\n",
    "    Y_test = test[\"y\"]\n",
    "\n",
    "    if modelo == \"Random Forest\":\n",
    "        params = {\"n_estimators\": 500, \"max_depth\": 10, \"random_state\": 42}\n",
    "        model = RandomForestClassifier(**params)\n",
    "        model.fit(X_train, Y_train)\n",
    "        y_pred = model.predict(X_test)\n",
    "        y_pred_train = model.predict(X_train)\n",
    "        y_prob = model.predict_proba(X_test)[:, 1]\n",
    "\n",
    "    if modelo == \"XGBoost\":\n",
    "        params =  {\"n_estimators\": 100, \"learning_rate\": 0.1, \"max_depth\": 6, \"eval_metric\": \"logloss\", \"random_state\": 42}\n",
    "        model = XGBClassifier(**params)\n",
    "        model.fit(X_train, Y_train)\n",
    "        y_pred = model.predict(X_test)\n",
    "        y_pred_train = model.predict(X_train)\n",
    "        y_prob = model.predict_proba(X_test)[:, 1]\n",
    "\n",
    "    if modelo == \"Regresion Logistica\":\n",
    "        params = {\"max_iter\": 1000, \"solver\": \"liblinear\", \"random_state\": 42}\n",
    "        model = LogisticRegression(**params)\n",
    "        model.fit(X_train, Y_train)\n",
    "        y_pred = model.predict(X_test)\n",
    "        y_pred_train = model.predict(X_train)\n",
    "        y_prob = model.predict_proba(X_test)[:, 1]\n",
    "\n",
    "    accuracy = accuracy_score(Y_test, y_pred)\n",
    "    recall = recall_score(Y_test, y_pred)\n",
    "    precision = precision_score(Y_test, y_pred)\n",
    "    f1 = f1_score(Y_test, y_pred)\n",
    "    accuracy_train = accuracy_score(Y_train, y_pred_train)\n",
    "\n",
    "    print(f\"Accuracy: {accuracy}\\nRecall: {recall}\\nPrecision: {precision}\\nF1: {f1}\")\n",
    "    print(f\"Overfitting: {accuracy_train}\")\n",
    "    cm = confusion_matrix(Y_test, y_pred)\n",
    "    disp = ConfusionMatrixDisplay(confusion_matrix=cm)\n",
    "    disp.plot(cmap=\"Blues\")\n",
    "\n",
    "    fpr, tpr, _ = roc_curve(Y_test, y_prob)\n",
    "    roc_auc = roc_auc_score(Y_test, y_prob)\n",
    "\n",
    "    plt.figure(figsize=(8,6))\n",
    "    plt.plot(fpr, tpr, color=\"blue\", lw=2, label=f\"ROC curve (AUC = {roc_auc:.4f})\")\n",
    "    plt.plot([0,1], [0,1], color=\"gray\", lw=2, linestyle=\"--\")\n",
    "    plt.xlabel(\"False Positive Rate\")\n",
    "    plt.ylabel(\"True Positive Rate\")\n",
    "    plt.title(\"Curva ROC - Random Forest\")\n",
    "    plt.legend(loc=\"lower right\")\n",
    "    plt.show()\n",
    "\n",
    "\n",
    "\n",
    "    resultados_dir = \"/workspaces/deteccion_clientes_banco/models/resultados\"  \n",
    "    os.makedirs(resultados_dir, exist_ok=True)\n",
    "    metrics_file = os.path.join(resultados_dir, \"metrics.csv\")\n",
    "\n",
    "    timestamp = datetime.now().strftime(\"%Y-%m-%d %H:%M:%S\")\n",
    "\n",
    "    metrics = {\n",
    "            \"accuracy\": accuracy_score(Y_test, y_pred),\n",
    "            \"recall\": recall_score(Y_test, y_pred),\n",
    "            \"precision\": precision_score(Y_test, y_pred),\n",
    "            \"f1\": f1_score(Y_test, y_pred),\n",
    "            \"accuracy_train\": accuracy_score(Y_train, y_pred_train),\n",
    "            \"roc_auc\": roc_auc_score(Y_test, y_prob)\n",
    "        }\n",
    "    \n",
    "    registro = pd.DataFrame([{\n",
    "        \"timestamp\": timestamp,\n",
    "        \"modelo\": modelo,\n",
    "        \"accuracy\": round(accuracy, 4),\n",
    "        \"recall\": round(recall, 4),\n",
    "        \"precision\": round(precision, 4),\n",
    "        \"f1\": round(f1, 4),\n",
    "        \"accuracy_train\": round(accuracy_train, 4),\n",
    "        \"roc_auc\": round(roc_auc, 4)\n",
    "    }])\n",
    "\n",
    "    if os.path.exists(metrics_file):\n",
    "        registro.to_csv(metrics_file, mode=\"a\", header=False, index=False)\n",
    "    else:\n",
    "        registro.to_csv(metrics_file, index=False)\n",
    "\n",
    "    print(f\"Métricas guardadas en {metrics_file}\")\n",
    "    return params, metrics, model\n",
    "    "
   ]
  },
  {
   "cell_type": "code",
   "execution_count": 5,
   "id": "2936f7ac",
   "metadata": {
    "execution": {
     "iopub.execute_input": "2025-09-25T23:29:55.340729Z",
     "iopub.status.busy": "2025-09-25T23:29:55.340332Z",
     "iopub.status.idle": "2025-09-25T23:30:01.315993Z",
     "shell.execute_reply": "2025-09-25T23:30:01.315282Z"
    }
   },
   "outputs": [
    {
     "name": "stdout",
     "output_type": "stream",
     "text": [
      "Accuracy: 0.9254564983888293\n",
      "Recall: 0.8136272545090181\n",
      "Precision: 0.8345323741007195\n",
      "F1: 0.823947234906139\n",
      "Overfitting: 0.9423169880229872\n"
     ]
    },
    {
     "data": {
      "image/png": "[encoded data removed]",
      "text/plain": [
       "<Figure size 640x480 with 2 Axes>"
      ]
     },
     "metadata": {},
     "output_type": "display_data"
    },
    {
     "data": {
      "image/png": "[encoded data removed]",
      "text/plain": [
       "<Figure size 800x600 with 1 Axes>"
      ]
     },
     "metadata": {},
     "output_type": "display_data"
    },
    {
     "name": "stdout",
     "output_type": "stream",
     "text": [
      "Métricas guardadas en /workspaces/deteccion_clientes_banco/models/resultados/metrics.csv\n"
     ]
    },
    {
     "name": "stderr",
     "output_type": "stream",
     "text": [
      "2025/09/25 23:29:56 WARNING mlflow.models.model: `artifact_path` is deprecated. Please use `name` instead.\n"
     ]
    },
    {
     "name": "stderr",
     "output_type": "stream",
     "text": [
      "/usr/local/python/3.12.1/lib/python3.12/site-packages/xgboost/sklearn.py:1028: UserWarning: [23:29:57] WARNING: /workspace/src/c_api/c_api.cc:1427: Saving model in the UBJSON format as default.  You can use file extension: `json`, `ubj` or `deprecated` to choose between formats.\n",
      "  self.get_booster().save_model(fname)\n"
     ]
    },
    {
     "name": "stderr",
     "output_type": "stream",
     "text": [
      "\u001b[31m2025/09/25 23:30:01 WARNING mlflow.models.model: Model logged without a signature and input example. Please set `input_example` parameter when logging the model to auto infer the model signature.\u001b[0m\n"
     ]
    },
    {
     "name": "stdout",
     "output_type": "stream",
     "text": [
      "🏃 View run XGBoost at: http://0.0.0.0:5000/#/experiments/4/runs/f388b503bf7444378f1b55297310dbbd\n",
      "🧪 View experiment at: http://0.0.0.0:5000/#/experiments/4\n"
     ]
    }
   ],
   "source": [
    "parametros, metricas, modelo = entrenar(\"XGBoost\", df)\n",
    "mlflow.set_tracking_uri(\"http://0.0.0.0:5000\")\n",
    "mlflow.set_experiment(\"Baseline Experiment\")\n",
    "with mlflow.start_run(run_name=\"XGBoost\") as run:\n",
    "    mlflow.log_params(parametros)\n",
    "    mlflow.log_metrics(metricas)\n",
    "    mlflow.xgboost.log_model(modelo, \"XGBoost\")\n",
    "    run_id = run.info.run_id  # <-- Aquí obtienes el run_id"
   ]
  },
  {
   "cell_type": "code",
   "execution_count": 6,
   "id": "da3658e8",
   "metadata": {
    "execution": {
     "iopub.execute_input": "2025-09-25T23:30:01.318054Z",
     "iopub.status.busy": "2025-09-25T23:30:01.317845Z",
     "iopub.status.idle": "2025-09-25T23:30:01.320749Z",
     "shell.execute_reply": "2025-09-25T23:30:01.320159Z"
    }
   },
   "outputs": [],
   "source": [
    "#parametros, metricas, modelo = entrenar(\"Random Forest\", df)\n",
    "#with mlflow.start_run(run_name='Random Forest'):\n",
    "    #mlflow.log_params(parametros)\n",
    "    #mlflow.log_metrics(metricas)\n",
    "    #mlflow.sklearn.log_model(modelo, \"Random Forest\")"
   ]
  },
  {
   "cell_type": "code",
   "execution_count": 7,
   "id": "7def5692",
   "metadata": {
    "execution": {
     "iopub.execute_input": "2025-09-25T23:30:01.322695Z",
     "iopub.status.busy": "2025-09-25T23:30:01.322508Z",
     "iopub.status.idle": "2025-09-25T23:30:01.325243Z",
     "shell.execute_reply": "2025-09-25T23:30:01.324661Z"
    }
   },
   "outputs": [],
   "source": [
    "#parametros, metricas, modelo = entrenar(\"Regresion Logistica\", df)\n",
    "#with mlflow.start_run(run_name='Regresión Logística'):\n",
    "    #mlflow.log_params(parametros)\n",
    "    #mlflow.log_metrics(metricas)\n",
    "    #mlflow.sklearn.log_model(modelo, \"Regresion Logistica\")\n",
    "    "
   ]
  },
  {
   "cell_type": "code",
   "execution_count": 8,
   "id": "1b431b30",
   "metadata": {
    "execution": {
     "iopub.execute_input": "2025-09-25T23:30:01.327663Z",
     "iopub.status.busy": "2025-09-25T23:30:01.326933Z",
     "iopub.status.idle": "2025-09-25T23:30:01.510177Z",
     "shell.execute_reply": "2025-09-25T23:30:01.509512Z"
    }
   },
   "outputs": [
    {
     "name": "stderr",
     "output_type": "stream",
     "text": [
      "/tmp/ipykernel_69692/249639945.py:7: FutureWarning: ``mlflow.tracking.client.MlflowClient.get_latest_versions`` is deprecated since 2.9.0. Model registry stages will be removed in a future major release. To learn more about the deprecation of model registry stages, see our migration guide here: https://mlflow.org/docs/latest/model-registry.html#migrating-from-stages\n",
      "  prod_versions = client.get_latest_versions(prod_model_name, stages=[\"Production\"])\n"
     ]
    },
    {
     "name": "stdout",
     "output_type": "stream",
     "text": [
      "Métricas modelo en producción: {'accuracy': 0.9254564983888293, 'recall': 0.8136272545090181, 'precision': 0.8345323741007195, 'f1': 0.823947234906139, 'accuracy_train': 0.9423169880229872, 'roc_auc': 0.9763716659460567}\n",
      "Métricas nuevo modelo: {'accuracy': 0.9254564983888293, 'recall': 0.8136272545090181, 'precision': 0.8345323741007195, 'f1': 0.823947234906139, 'accuracy_train': 0.9423169880229872, 'roc_auc': 0.9763716659460567}\n",
      "El modelo actual en producción es mejor. No se actualiza.\n"
     ]
    }
   ],
   "source": [
    "client = MlflowClient()\n",
    "prod_model_name = \"client-detection-prod\"\n",
    "model_name = \"XGBoost\"\n",
    "model_uri = f\"runs:/{run_id}/{model_name}\"\n",
    "\n",
    "# 1. Obtener la última versión en producción\n",
    "prod_versions = client.get_latest_versions(prod_model_name, stages=[\"Production\"])\n",
    "if prod_versions:\n",
    "    prod_model = prod_versions[0]\n",
    "    prod_run_id = prod_model.run_id\n",
    "    prod_metrics = client.get_run(prod_run_id).data.metrics\n",
    "    print(\"Métricas modelo en producción:\", prod_metrics)\n",
    "else:\n",
    "    prod_metrics = None\n",
    "    print(\"No hay modelo en producción.\")\n",
    "\n",
    "# 2. Obtener métricas del nuevo modelo\n",
    "# Supón que 'metricas' es el dict de métricas del nuevo modelo\n",
    "print(\"Métricas nuevo modelo:\", metricas)\n",
    "\n",
    "# 3. Comparar y decidir si actualizar\n",
    "if prod_metrics is None or metricas[\"f1\"] > prod_metrics.get(\"f1\", 0):\n",
    "    print(\"El nuevo modelo es mejor. Actualizando producción...\")\n",
    "    # Registra el nuevo modelo y lo promueve a producción\n",
    "    result = mlflow.register_model(model_uri, prod_model_name)\n",
    "    client.transition_model_version_stage(\n",
    "        name=prod_model_name,\n",
    "        version=result.version,\n",
    "        stage=\"Production\",\n",
    "        archive_existing_versions=True\n",
    "    )\n",
    "else:\n",
    "    print(\"El modelo actual en producción es mejor. No se actualiza.\")"
   ]
  },
  {
   "cell_type": "code",
   "execution_count": 9,
   "id": "84f8d973",
   "metadata": {
    "execution": {
     "iopub.execute_input": "2025-09-25T23:30:01.512534Z",
     "iopub.status.busy": "2025-09-25T23:30:01.512147Z",
     "iopub.status.idle": "2025-09-25T23:30:02.012709Z",
     "shell.execute_reply": "2025-09-25T23:30:02.011973Z"
    }
   },
   "outputs": [
    {
     "name": "stderr",
     "output_type": "stream",
     "text": [
      "Registered model 'XGBoost' already exists. Creating a new version of this model...\n",
      "2025/09/25 23:30:01 WARNING mlflow.tracking._model_registry.fluent: Run with id f24b4c3d6d594bb0af131df0cc1e8ba1 has no artifacts at artifact path 'XGBoost', registering model based on models:/m-6a5e9ce9a6f54a17a9e20f795c64f276 instead\n"
     ]
    },
    {
     "name": "stderr",
     "output_type": "stream",
     "text": [
      "2025/09/25 23:30:01 INFO mlflow.store.model_registry.abstract_store: Waiting up to 300 seconds for model version to finish creation. Model name: XGBoost, version 6\n"
     ]
    },
    {
     "name": "stderr",
     "output_type": "stream",
     "text": [
      "Created version '6' of model 'XGBoost'.\n"
     ]
    }
   ],
   "source": [
    "model_name = \"XGBoost\"\n",
    "run_id = \"f24b4c3d6d594bb0af131df0cc1e8ba1\"\n",
    "model_uri = f\"runs:/{run_id}/{model_name}\"\n",
    "\n",
    "result = mlflow.register_model(model_uri, model_name)"
   ]
  },
  {
   "cell_type": "code",
   "execution_count": 10,
   "id": "1a6048a5",
   "metadata": {
    "execution": {
     "iopub.execute_input": "2025-09-25T23:30:02.014801Z",
     "iopub.status.busy": "2025-09-25T23:30:02.014596Z",
     "iopub.status.idle": "2025-09-25T23:30:02.218880Z",
     "shell.execute_reply": "2025-09-25T23:30:02.218106Z"
    }
   },
   "outputs": [
    {
     "name": "stderr",
     "output_type": "stream",
     "text": [
      "Registered model 'client-detection-prod' already exists. Creating a new version of this model...\n",
      "Copied version '1' of model 'XGBoost' to version '8' of model 'client-detection-prod'.\n"
     ]
    },
    {
     "data": {
      "text/plain": [
       "<ModelVersion: aliases=[], creation_timestamp=1758843002165, current_stage='None', deployment_job_state=<ModelVersionDeploymentJobState: current_task_name='', job_id='', job_state='DEPLOYMENT_JOB_CONNECTION_STATE_UNSPECIFIED', run_id='', run_state='DEPLOYMENT_JOB_RUN_STATE_UNSPECIFIED'>, description='', last_updated_timestamp=1758843002165, metrics=None, model_id=None, name='client-detection-prod', params=None, run_id='f24b4c3d6d594bb0af131df0cc1e8ba1', run_link='', source='models:/XGBoost/1', status='READY', status_message=None, tags={}, user_id='', version='8'>"
      ]
     },
     "execution_count": 10,
     "metadata": {},
     "output_type": "execute_result"
    }
   ],
   "source": [
    "dev_model_uri=f\"models:/{model_name}@champion\"\n",
    "prod_model = \"client-detection-prod\"\n",
    "\n",
    "client = mlflow.MlflowClient()\n",
    "client.copy_model_version(src_model_uri = dev_model_uri, dst_name = prod_model)"
   ]
  },
  {
   "cell_type": "markdown",
   "id": "52612261",
   "metadata": {},
   "source": [
    "### Métricas sin Oversampling (36000, 4000)\n",
    "\n",
    "Accuracy: 0.91\n",
    "\n",
    "Recall: 0.39\n",
    "\n",
    "Precision: 0.69\n",
    "\n",
    "F1: 0.50\n",
    "\n",
    "### Métricas con Oversampling (36000, 10000)\n",
    "\n",
    "Accuracy: 0.91\n",
    "\n",
    "Recall: 0.78\n",
    "\n",
    "Precision: 0.81\n",
    "\n",
    "F1: 0.80"
   ]
  }
 ],
 "metadata": {
  "kernelspec": {
   "display_name": "Python 3",
   "language": "python",
   "name": "python3"
  },
  "language_info": {
   "codemirror_mode": {
    "name": "ipython",
    "version": 3
   },
   "file_extension": ".py",
   "mimetype": "text/x-python",
   "name": "python",
   "nbconvert_exporter": "python",
   "pygments_lexer": "ipython3",
   "version": "3.12.1"
  }
 },
 "nbformat": 4,
 "nbformat_minor": 5
}
